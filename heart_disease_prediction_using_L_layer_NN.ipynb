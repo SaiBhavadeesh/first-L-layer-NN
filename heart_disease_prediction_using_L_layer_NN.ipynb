{
 "cells": [
  {
   "cell_type": "code",
   "execution_count": 1,
   "metadata": {},
   "outputs": [],
   "source": [
    "import numpy as np\n",
    "import pandas as pd\n",
    "import matplotlib.pyplot as plt\n",
    "from sklearn.preprocessing import StandardScaler\n",
    "from sklearn.model_selection import train_test_split\n",
    "\n",
    "### Read dataset\n",
    "data = pd.read_csv(\"heart_disease.csv\")\n",
    "Y, X = data['target'], data.drop('target', axis = 1)\n",
    "\n",
    "### Split the dataset into test, train sets\n",
    "X_train, X_test, Y_train, Y_test = train_test_split(X, Y, test_size = 0.3, random_state = 0)\n",
    "X_train = np.array(X_train)\n",
    "X_test = np.array(X_test)\n",
    "Y_train = np.array(Y_train)\n",
    "Y_test = np.array(Y_test)\n",
    "Y_test.shape = (Y_test.shape[0], 1)\n",
    "\n",
    "### Scale data\n",
    "def scale_data(X_train, X_test):\n",
    "    scaller = StandardScaler()\n",
    "    X_train = scaller.fit_transform(X_train)\n",
    "    X_test = scaller.transform(X_test)\n",
    "    return X_train, X_test\n",
    "\n",
    "X_train, X_test = scale_data(X_train, X_test)\n",
    "\n",
    "### Setting data correct\n",
    "X_train = X_train.T\n",
    "X_test = X_test.T"
   ]
  },
  {
   "cell_type": "code",
   "execution_count": 2,
   "metadata": {},
   "outputs": [],
   "source": [
    "### Initialize parameters\n",
    "def initialize_parameters(n_L = [X_train.shape[0], X_train.shape[0]-3, X_train.shape[0]-5, 1], L = 3):\n",
    "    parameters = {}\n",
    "    for i in range(1, L+1):\n",
    "        parameters['W'+str(i)] = np.random.randn(n_L[i], n_L[i-1])*0.01\n",
    "        parameters['b'+str(i)] = np.zeros((n_L[i], 1))\n",
    "    return parameters, L"
   ]
  },
  {
   "cell_type": "code",
   "execution_count": 3,
   "metadata": {},
   "outputs": [],
   "source": [
    "### Forward propagation\n",
    "def forward_propagation(parameters, L):\n",
    "    forward_cache = {'A0':X_train}\n",
    "    for i in range(1, L+1):\n",
    "        forward_cache['Z'+str(i)] = np.dot(parameters['W'+str(i)], forward_cache['A'+str(i-1)]) + parameters['b'+str(i)]\n",
    "        if i == L:\n",
    "            forward_cache['A'+str(i)] = 1/(1+np.exp(-forward_cache['Z'+str(i)]))\n",
    "        else:\n",
    "            forward_cache['A'+str(i)] = np.maximum(forward_cache['Z'+str(i)], 0)\n",
    "    return forward_cache"
   ]
  },
  {
   "cell_type": "code",
   "execution_count": 4,
   "metadata": {},
   "outputs": [],
   "source": [
    "### Backward Propagation\n",
    "def backward_propagation(forward_cache, parameters, L):\n",
    "    dA, dZ = 0, 0\n",
    "    backward_cache = {}\n",
    "    for i in range(L, 0, -1):\n",
    "        m = forward_cache['A'+str(i-1)].shape[1]\n",
    "        if i == L:\n",
    "            dZ = forward_cache['A'+str(L)] - Y_train\n",
    "        else:\n",
    "            dZ = dA*((forward_cache['A'+str(i)] > 0)*1)\n",
    "        backward_cache['dW'+str(i)] = np.dot(dZ, forward_cache['A'+str(i-1)].T)/m\n",
    "        backward_cache['db'+str(i)] = np.sum(dZ, axis = 1, keepdims = True)/m\n",
    "        if i > 1:\n",
    "            dA = np.dot(parameters['W'+str(i)].T, dZ)\n",
    "    return backward_cache\n"
   ]
  },
  {
   "cell_type": "code",
   "execution_count": 5,
   "metadata": {},
   "outputs": [],
   "source": [
    "### Computing cost\n",
    "def compute_cost(A, Y_train):\n",
    "    m = Y_train.shape[0]\n",
    "    cost = np.float64((-1.0/m) * (np.dot(Y_train, np.log(A).T) + np.dot(1-Y_train, np.log(1-A).T)))\n",
    "    return np.squeeze(cost)"
   ]
  },
  {
   "cell_type": "code",
   "execution_count": 6,
   "metadata": {},
   "outputs": [],
   "source": [
    "### Update parameters\n",
    "def update_parameters(parameters, backward_cache, learning_rate, L):\n",
    "    for i in range(1, L+1):\n",
    "        parameters['W'+str(i)] = parameters['W'+str(i)] - learning_rate*backward_cache['dW'+str(i)]\n",
    "        parameters['b'+str(i)] = parameters['b'+str(i)] - learning_rate*backward_cache['db'+str(i)]\n",
    "    return parameters"
   ]
  },
  {
   "cell_type": "code",
   "execution_count": 7,
   "metadata": {},
   "outputs": [],
   "source": [
    "### train L-Layer Neural Network\n",
    "def train_L_layer_model(num_iter = 1000, learning_rate = 0.01):\n",
    "    parameters, L = initialize_parameters(L = 3)\n",
    "    costs = []\n",
    "    for iter in range(num_iter):\n",
    "        forward_cache = forward_propagation(parameters, L)\n",
    "        cost = compute_cost(forward_cache['A'+str(L)], Y_train)\n",
    "        costs.append(cost)\n",
    "        backward_cache = backward_propagation(forward_cache, parameters, L)\n",
    "        parameters = update_parameters(parameters, backward_cache, learning_rate, L)\n",
    "    plt.figure()\n",
    "    plt.plot(list(range(num_iter)), costs, '-r')\n",
    "    plt.xlabel('# Iterations')\n",
    "    plt.ylabel('Cost')\n",
    "    plt.show()\n",
    "    return parameters, L"
   ]
  },
  {
   "cell_type": "code",
   "execution_count": 8,
   "metadata": {},
   "outputs": [],
   "source": [
    "### predict test set/new inputs\n",
    "def predict(parameters, X_test, Y_test, L):\n",
    "    cache = forward_propagation(parameters, L)\n",
    "    Y_pred = (cache['A'+str(L)] > 0.5)*1\n",
    "    print('Accuracy: %d' % float((np.dot(Y_train, Y_pred.T) + np.dot(1 - Y_train, 1 - Y_pred.T)) / float(Y_train.size) * 100) + '%')\n"
   ]
  },
  {
   "cell_type": "code",
   "execution_count": 9,
   "metadata": {},
   "outputs": [
    {
     "data": {
      "image/png": "[encoded data removed]",
      "text/plain": [
       "<Figure size 432x288 with 1 Axes>"
      ]
     },
     "metadata": {
      "needs_background": "light"
     },
     "output_type": "display_data"
    },
    {
     "name": "stdout",
     "output_type": "stream",
     "text": [
      "Accuracy: 94%\n"
     ]
    }
   ],
   "source": [
    "parameters, L = train_L_layer_model(10000, 0.0225)\n",
    "predict(parameters, X_test, Y_test, L)"
   ]
  }
 ],
 "metadata": {
  "kernelspec": {
   "display_name": "Python 3.7.4 64-bit ('base': conda)",
   "language": "python",
   "name": "python37464bitbaseconda5fd175e95b254fc19b4f98c1ab2c721e"
  },
  "language_info": {
   "codemirror_mode": {
    "name": "ipython",
    "version": 3
   },
   "file_extension": ".py",
   "mimetype": "text/x-python",
   "name": "python",
   "nbconvert_exporter": "python",
   "pygments_lexer": "ipython3",
   "version": "3.7.4"
  }
 },
 "nbformat": 4,
 "nbformat_minor": 2
}
